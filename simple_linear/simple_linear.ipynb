{
 "cells": [
  {
   "attachments": {},
   "cell_type": "markdown",
   "metadata": {},
   "source": [
    "# Simple linear regreesion model in python\n",
    "- Simple Linnear Regression is a statistical method that allows us to summarize and study relationships between two continuous (quantitative) variables:\n",
    "    - One variable, denoted x, is regarded as the predictor, explanatory, or independent variable.\n",
    "    - The other variable, denoted y, is regarded as the response, outcome, or dependent variable.\n",
    "- Simple linear regression gets its adjective \"simple,\" because it concerns the study of only one predictor variable. In contrast, multiple linear regression, which we study later in this course, gets its adjective \"multiple,\" because it concerns the study of two or more predictor variables."
   ]
  },
  {
   "cell_type": "code",
   "execution_count": 1,
   "metadata": {},
   "outputs": [],
   "source": [
    "# Import general libraries\n",
    "import pandas as pd\n",
    "import numpy as np\n",
    "import matplotlib.pyplot as plt\n",
    "import seaborn as sns\n"
   ]
  },
  {
   "cell_type": "code",
   "execution_count": 4,
   "metadata": {},
   "outputs": [],
   "source": [
    "# Machine Learning libraries\n",
    "from sklearn.linear_model import LinearRegression\n"
   ]
  }
 ],
 "metadata": {
  "kernelspec": {
   "display_name": "machinelearning",
   "language": "python",
   "name": "python3"
  },
  "language_info": {
   "codemirror_mode": {
    "name": "ipython",
    "version": 3
   },
   "file_extension": ".py",
   "mimetype": "text/x-python",
   "name": "python",
   "nbconvert_exporter": "python",
   "pygments_lexer": "ipython3",
   "version": "3.11.0"
  },
  "orig_nbformat": 4
 },
 "nbformat": 4,
 "nbformat_minor": 2
}
